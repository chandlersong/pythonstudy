{
 "cells": [
  {
   "cell_type": "code",
   "execution_count": 9,
   "metadata": {
    "collapsed": true
   },
   "outputs": [
    {
     "name": "stdout",
     "output_type": "stream",
     "text": [
      "The autoreload extension is already loaded. To reload it, use:\n",
      "  %reload_ext autoreload\n"
     ]
    }
   ],
   "source": [
    "import pandas as pd\n",
    "import backtrader as bt\n",
    "import sys\n",
    "from loguru import logger as log\n",
    "log.remove()\n",
    "log.add(sys.stderr, level=\"INFO\") # or sys.stdout or other file object\n",
    "%load_ext autoreload\n",
    "%autoreload 2\n",
    "%matplotlib inline"
   ]
  },
  {
   "cell_type": "code",
   "execution_count": 10,
   "outputs": [
    {
     "data": {
      "text/plain": "            timestamp      open      high       low     close  volume\n0 2022-12-01 00:00:00  17165.44  17194.00  17133.35  17188.29    3008\n1 2022-12-01 00:15:00  17188.85  17236.29  17159.61  17202.17    5286\n2 2022-12-01 00:30:00  17202.17  17210.53  17151.02  17155.80    2505\n3 2022-12-01 00:45:00  17155.80  17179.38  17122.65  17161.55    2565\n4 2022-12-01 01:00:00  17161.55  17170.32  17134.07  17145.88    2172",
      "text/html": "<div>\n<style scoped>\n    .dataframe tbody tr th:only-of-type {\n        vertical-align: middle;\n    }\n\n    .dataframe tbody tr th {\n        vertical-align: top;\n    }\n\n    .dataframe thead th {\n        text-align: right;\n    }\n</style>\n<table border=\"1\" class=\"dataframe\">\n  <thead>\n    <tr style=\"text-align: right;\">\n      <th></th>\n      <th>timestamp</th>\n      <th>open</th>\n      <th>high</th>\n      <th>low</th>\n      <th>close</th>\n      <th>volume</th>\n    </tr>\n  </thead>\n  <tbody>\n    <tr>\n      <th>0</th>\n      <td>2022-12-01 00:00:00</td>\n      <td>17165.44</td>\n      <td>17194.00</td>\n      <td>17133.35</td>\n      <td>17188.29</td>\n      <td>3008</td>\n    </tr>\n    <tr>\n      <th>1</th>\n      <td>2022-12-01 00:15:00</td>\n      <td>17188.85</td>\n      <td>17236.29</td>\n      <td>17159.61</td>\n      <td>17202.17</td>\n      <td>5286</td>\n    </tr>\n    <tr>\n      <th>2</th>\n      <td>2022-12-01 00:30:00</td>\n      <td>17202.17</td>\n      <td>17210.53</td>\n      <td>17151.02</td>\n      <td>17155.80</td>\n      <td>2505</td>\n    </tr>\n    <tr>\n      <th>3</th>\n      <td>2022-12-01 00:45:00</td>\n      <td>17155.80</td>\n      <td>17179.38</td>\n      <td>17122.65</td>\n      <td>17161.55</td>\n      <td>2565</td>\n    </tr>\n    <tr>\n      <th>4</th>\n      <td>2022-12-01 01:00:00</td>\n      <td>17161.55</td>\n      <td>17170.32</td>\n      <td>17134.07</td>\n      <td>17145.88</td>\n      <td>2172</td>\n    </tr>\n  </tbody>\n</table>\n</div>"
     },
     "execution_count": 10,
     "metadata": {},
     "output_type": "execute_result"
    }
   ],
   "source": [
    "import datetime\n",
    "\n",
    "dateparse = lambda x: datetime.datetime.strptime(x, '%Y-%m-%d %H.%M.%S')\n",
    "data = pd.read_csv(\"data.csv\", parse_dates=['timestamp'], index_col='idx', date_parser=dateparse)\n",
    "strategy_data = data.resample(rule='15T', on='timestamp').agg(\n",
    "    {'open': 'first',\n",
    "     'high': 'max',\n",
    "     'low': 'min',\n",
    "     'close': 'last',\n",
    "     'volume': 'sum'\n",
    "     })\n",
    "strategy_data = strategy_data.reset_index()\n",
    "strategy_data.head(5)"
   ],
   "metadata": {
    "collapsed": false
   }
  },
  {
   "cell_type": "code",
   "execution_count": 11,
   "outputs": [
    {
     "name": "stderr",
     "output_type": "stream",
     "text": [
      "2023-02-20 10:55:20.925 | INFO     | Bbands:__init__:13 - parameter is 20-1.1\n"
     ]
    },
    {
     "data": {
      "text/plain": "[[<backtrader.cerebro.OptReturn at 0x7fbb34c70e80>]]"
     },
     "execution_count": 11,
     "metadata": {},
     "output_type": "execute_result"
    }
   ],
   "source": [
    "from Bbands import BbandsStrategy\n",
    "from backtrader.feeds import PandasData\n",
    "\n",
    "bt_data = PandasData(dataname=strategy_data,\n",
    "                     datetime='timestamp',\n",
    "                     high='high',\n",
    "                     low='low',\n",
    "                     open='open',\n",
    "                     close='close',\n",
    "                     volume='volume')\n",
    "cerebro = bt.Cerebro()\n",
    "broker = cerebro.broker\n",
    "broker.setcash(100000.0)\n",
    "cerebro.adddata(bt_data)\n",
    "cerebro.optstrategy(BbandsStrategy, period=20, bias=1.1)\n",
    "cerebro.run()"
   ],
   "metadata": {
    "collapsed": false
   }
  },
  {
   "cell_type": "code",
   "execution_count": 11,
   "outputs": [],
   "source": [],
   "metadata": {
    "collapsed": false
   }
  }
 ],
 "metadata": {
  "kernelspec": {
   "display_name": "Python 3",
   "language": "python",
   "name": "python3"
  },
  "language_info": {
   "codemirror_mode": {
    "name": "ipython",
    "version": 2
   },
   "file_extension": ".py",
   "mimetype": "text/x-python",
   "name": "python",
   "nbconvert_exporter": "python",
   "pygments_lexer": "ipython2",
   "version": "2.7.6"
  }
 },
 "nbformat": 4,
 "nbformat_minor": 0
}
