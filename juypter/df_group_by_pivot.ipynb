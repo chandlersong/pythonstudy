{
 "cells": [
  {
   "cell_type": "code",
   "execution_count": 1,
   "metadata": {
    "collapsed": true
   },
   "outputs": [],
   "source": [
    "from sparkstudy.deploy.demo_sessions import DemoSQLSessionFactory\n",
    "from pyspark.sql.functions import lit\n",
    "%load_ext autoreload\n",
    "%autoreload 2\n",
    "%matplotlib inline"
   ]
  },
  {
   "cell_type": "code",
   "source": [
    "sessionFactory = DemoSQLSessionFactory(name=\"local file\")\n",
    "spark = sessionFactory.build_session()\n"
   ],
   "metadata": {
    "collapsed": false,
    "pycharm": {
     "name": "#%%\n"
    }
   },
   "execution_count": 2,
   "outputs": []
  },
  {
   "cell_type": "code",
   "execution_count": 3,
   "outputs": [
    {
     "name": "stdout",
     "output_type": "stream",
     "text": [
      "+---+----+-------+\n",
      "|age|name|address|\n",
      "+---+----+-------+\n",
      "|  1|   a|      e|\n",
      "|  2|   b|      f|\n",
      "|  3|   c|      g|\n",
      "+---+----+-------+\n",
      "\n"
     ]
    }
   ],
   "source": [
    "data = [(1,\"a\",\"e\"),(2,\"b\",\"f\"),(3,\"c\",\"g\")]\n",
    "columns = [\"age\",\"name\",\"address\"]\n",
    "logData = spark.createDataFrame(data, columns).cache()\n",
    "logData.show()"
   ],
   "metadata": {
    "collapsed": false,
    "pycharm": {
     "name": "#%%\n"
    }
   }
  },
  {
   "cell_type": "code",
   "execution_count": 4,
   "outputs": [
    {
     "name": "stdout",
     "output_type": "stream",
     "text": [
      "+----+----+----+----+\n",
      "|name|   e|   f|   g|\n",
      "+----+----+----+----+\n",
      "|   c|null|null|   3|\n",
      "|   b|null|   2|null|\n",
      "|   a|   1|null|null|\n",
      "+----+----+----+----+\n",
      "\n"
     ]
    }
   ],
   "source": [
    "\n",
    "\n",
    "logData.groupBy(\"name\").pivot(\"address\").sum().show()"
   ],
   "metadata": {
    "collapsed": false,
    "pycharm": {
     "name": "#%%\n"
    }
   }
  },
  {
   "cell_type": "markdown",
   "source": [
    "看看，如果有重复的列会怎么样"
   ],
   "metadata": {
    "collapsed": false
   }
  },
  {
   "cell_type": "code",
   "execution_count": 5,
   "outputs": [
    {
     "name": "stdout",
     "output_type": "stream",
     "text": [
      "+----+----+----+----+\n",
      "|name|   e|   f|   g|\n",
      "+----+----+----+----+\n",
      "|   c|null|null|   3|\n",
      "|   b|null|   2|null|\n",
      "|   a|   7|   5|null|\n",
      "+----+----+----+----+\n",
      "\n"
     ]
    }
   ],
   "source": [
    "newRow = spark.createDataFrame([(5,'a','f'),(6,\"a\",\"e\")], columns)\n",
    "new_log_data = logData.union(newRow)\n",
    "new_log_data.groupBy(\"name\").pivot(\"address\").sum().show()"
   ],
   "metadata": {
    "collapsed": false,
    "pycharm": {
     "name": "#%%\n"
    }
   }
  },
  {
   "cell_type": "markdown",
   "source": [
    "新的行\n",
    "\n"
   ],
   "metadata": {
    "collapsed": false,
    "pycharm": {
     "name": "#%% md\n"
    }
   }
  },
  {
   "cell_type": "code",
   "execution_count": 6,
   "outputs": [
    {
     "name": "stdout",
     "output_type": "stream",
     "text": [
      "+---+----+-------+----+\n",
      "|age|name|address|中文|\n",
      "+---+----+-------+----+\n",
      "|  1|   a|      e|   1|\n",
      "|  2|   b|      f|   1|\n",
      "|  3|   c|      g|   1|\n",
      "|  5|   a|      f|   1|\n",
      "|  6|   a|      e|   1|\n",
      "+---+----+-------+----+\n",
      "\n"
     ]
    }
   ],
   "source": [
    "newRow = spark.createDataFrame([(5,'a','f'),(6,\"a\",\"e\")], columns)\n",
    "new_log_data = logData.union(newRow)\n",
    "new_log_data.groupBy(\"name\").pivot(\"address\").sum().show()"
   ],
   "metadata": {
    "collapsed": false,
    "pycharm": {
     "name": "#%%\n"
    }
   }
  },
  {
   "cell_type": "markdown",
   "source": [
    "新的行\n",
    "\n"
   ],
   "metadata": {
    "collapsed": false
   }
  },
  {
   "cell_type": "code",
   "execution_count": 6,
   "outputs": [
    {
     "name": "stdout",
     "output_type": "stream",
     "text": [
      "+---+----+-------+----+\n",
      "|age|name|address|中文|\n",
      "+---+----+-------+----+\n",
      "|  1|   a|      e|   1|\n",
      "|  2|   b|      f|   1|\n",
      "|  3|   c|      g|   1|\n",
      "|  5|   a|      f|   1|\n",
      "|  6|   a|      e|   1|\n",
      "+---+----+-------+----+\n",
      "\n"
     ]
    }
   ],
   "source": [
    "log_new_column = new_log_data.withColumn(\"中文\",lit(1))\n",
    "log_new_column.show()"
   ],
   "metadata": {
    "collapsed": false,
    "pycharm": {
     "name": "#%%\n"
    }
   }
  },
  {
   "cell_type": "code",
   "execution_count": 7,
   "outputs": [
    {
     "name": "stdout",
     "output_type": "stream",
     "text": [
      "+----+----+----+----+\n",
      "|name|   e|   f|   g|\n",
      "+----+----+----+----+\n",
      "|   c|null|null|   1|\n",
      "|   b|null|   1|null|\n",
      "|   a|   2|   1|null|\n",
      "+----+----+----+----+\n",
      "\n"
     ]
    }
   ],
   "source": [
    "log_new_column.groupBy(\"name\").pivot(\"address\").sum(\"中文\").show()\n"
   ],
   "metadata": {
    "collapsed": false,
    "pycharm": {
     "name": "#%%\n"
    }
   }
  }
 ],
 "metadata": {
  "kernelspec": {
   "name": "python3",
   "language": "python",
   "display_name": "Python 3"
  },
  "language_info": {
   "codemirror_mode": {
    "name": "ipython",
    "version": 2
   },
   "file_extension": ".py",
   "mimetype": "text/x-python",
   "name": "python",
   "nbconvert_exporter": "python",
   "pygments_lexer": "ipython2",
   "version": "2.7.6"
  }
 },
 "nbformat": 4,
 "nbformat_minor": 0
}