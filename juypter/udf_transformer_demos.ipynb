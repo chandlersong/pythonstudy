{
 "cells": [
  {
   "cell_type": "code",
   "execution_count": 26,
   "outputs": [
    {
     "name": "stdout",
     "output_type": "stream",
     "text": [
      "The autoreload extension is already loaded. To reload it, use:\n",
      "  %reload_ext autoreload\n"
     ]
    }
   ],
   "source": [
    "from pyspark.sql.functions import udf, struct\n",
    "from pyspark.sql.types import IntegerType\n",
    "from sparkstudy.deploy.demo_sessions import DemoSQLSessionFactory\n",
    "%load_ext autoreload\n",
    "%autoreload 2\n",
    "%matplotlib inline"
   ],
   "metadata": {
    "collapsed": false,
    "pycharm": {
     "name": "#%%\n"
    }
   }
  },
  {
   "cell_type": "markdown",
   "metadata": {
    "collapsed": true,
    "pycharm": {
     "name": "#%% md\n"
    }
   },
   "source": [
    "舒适化数据"
   ]
  },
  {
   "cell_type": "code",
   "execution_count": 21,
   "outputs": [
    {
     "name": "stdout",
     "output_type": "stream",
     "text": [
      "+-------+----+-------+\n",
      "|str_age|name|address|\n",
      "+-------+----+-------+\n",
      "|      1|   a|      e|\n",
      "|      2|   b|      f|\n",
      "|      3|   c|      g|\n",
      "+-------+----+-------+\n",
      "\n"
     ]
    }
   ],
   "source": [
    "sessionFactory = DemoSQLSessionFactory(name=\"local file\")\n",
    "spark = sessionFactory.build_session()\n",
    "data = [(\"1\",\"a\",\"e\"),(\"2\",\"b\",\"f\"),(\"3\",\"c\",\"g\")]\n",
    "columns = [\"str_age\",\"name\",\"address\"]\n",
    "logData = spark.createDataFrame(data, columns).cache()\n",
    "logData.show()"
   ],
   "metadata": {
    "collapsed": false,
    "pycharm": {
     "name": "#%%\n"
    }
   }
  },
  {
   "cell_type": "markdown",
   "source": [
    "下面这个例子。是一个读一列的例子。\n",
    "[例子来源](https://www.bmc.com/blogs/how-to-write-spark-udf-python/)"
   ],
   "metadata": {
    "collapsed": false,
    "pycharm": {
     "name": "#%% md\n"
    }
   }
  },
  {
   "cell_type": "code",
   "execution_count": 22,
   "outputs": [],
   "source": [
    "colsInt = udf(lambda z: to_int(z), IntegerType())\n",
    "spark.udf.register(\"colsInt\", colsInt)\n",
    "def to_int(s):\n",
    "    if isinstance(s, str):\n",
    "        return int(s)\n",
    "    else:\n",
    "         return None"
   ],
   "metadata": {
    "collapsed": false,
    "pycharm": {
     "name": "#%%\n"
    }
   }
  },
  {
   "cell_type": "code",
   "execution_count": 23,
   "outputs": [
    {
     "name": "stdout",
     "output_type": "stream",
     "text": [
      "+-------+----+-------+---+\n",
      "|str_age|name|address|age|\n",
      "+-------+----+-------+---+\n",
      "|      1|   a|      e|  1|\n",
      "|      2|   b|      f|  2|\n",
      "|      3|   c|      g|  3|\n",
      "+-------+----+-------+---+\n",
      "\n"
     ]
    }
   ],
   "source": [
    "df2 = logData.withColumn('age',colsInt('str_age'))\n",
    "df2.show()"
   ],
   "metadata": {
    "collapsed": false,
    "pycharm": {
     "name": "#%%\n"
    }
   }
  },
  {
   "cell_type": "markdown",
   "source": [
    "读多列的样子"
   ],
   "metadata": {
    "collapsed": false
   }
  },
  {
   "cell_type": "code",
   "execution_count": 30,
   "outputs": [],
   "source": [
    "def count_columns(row):\n",
    "    for r in row:\n",
    "        print(r)\n",
    "    return len(row)\n",
    "countRow = udf(lambda row: count_columns(row), IntegerType())"
   ],
   "metadata": {
    "collapsed": false,
    "pycharm": {
     "name": "#%%\n"
    }
   }
  },
  {
   "cell_type": "code",
   "execution_count": 33,
   "outputs": [
    {
     "name": "stdout",
     "output_type": "stream",
     "text": [
      "+-------+----+-------+-------+\n",
      "|str_age|name|address|columns|\n",
      "+-------+----+-------+-------+\n",
      "|      1|   a|      e|      2|\n",
      "|      2|   b|      f|      2|\n",
      "|      3|   c|      g|      2|\n",
      "+-------+----+-------+-------+\n",
      "\n"
     ]
    }
   ],
   "source": [
    "columns = struct('name','address')\n",
    "df3 = logData.withColumn(\"columns\", countRow(columns))\n",
    "df3.show()"
   ],
   "metadata": {
    "collapsed": false,
    "pycharm": {
     "name": "#%%\n"
    }
   }
  }
 ],
 "metadata": {
  "kernelspec": {
   "display_name": "Python 3",
   "language": "python",
   "name": "python3"
  },
  "language_info": {
   "codemirror_mode": {
    "name": "ipython",
    "version": 2
   },
   "file_extension": ".py",
   "mimetype": "text/x-python",
   "name": "python",
   "nbconvert_exporter": "python",
   "pygments_lexer": "ipython2",
   "version": "2.7.6"
  }
 },
 "nbformat": 4,
 "nbformat_minor": 0
}