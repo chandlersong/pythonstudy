{
 "cells": [
  {
   "cell_type": "code",
   "execution_count": 1,
   "metadata": {
    "collapsed": true
   },
   "outputs": [],
   "source": [
    "import random\n",
    "import string\n",
    "from typing import List\n",
    "\n",
    "import pandas as pd\n",
    "from pyspark.sql.functions import struct, col\n",
    "from pyspark.sql.pandas.functions import pandas_udf\n",
    "from pyspark.sql.types import StringType, DoubleType\n",
    "\n",
    "from sparkstudy.deploy.demo_sessions import DemoSQLSessionFactory\n",
    "from sparkstudy.libs.tools import create_random_data\n",
    "%load_ext autoreload\n",
    "%autoreload 2\n",
    "%matplotlib inline\n",
    "\n",
    "COLUMNS = [\"name\",\"age\",\"salary\"]"
   ]
  },
  {
   "cell_type": "markdown",
   "source": [
    "比较下开不开启arrow的区别\n",
    "\n",
    "测试下来，感觉性能提升有点奇怪。有时候会快，有时候会慢。"
   ],
   "metadata": {
    "collapsed": false
   }
  },
  {
   "cell_type": "code",
   "execution_count": 4,
   "outputs": [
    {
     "name": "stdout",
     "output_type": "stream",
     "text": [
      "CPU times: user 2.84 s, sys: 58.1 ms, total: 2.9 s\n",
      "Wall time: 10.3 s\n"
     ]
    }
   ],
   "source": [
    "def test_performance(session_factory:DemoSQLSessionFactory, n:int = 100000):\n",
    "    data = create_random_data(n)\n",
    "    spark_session = session_factory.build_session()\n",
    "    df = spark_session.createDataFrame(data,COLUMNS).cache()\n",
    "    df.toPandas().head(5)"
   ],
   "metadata": {
    "collapsed": false,
    "pycharm": {
     "name": "#%%\n"
    }
   }
  },
  {
   "cell_type": "code",
   "execution_count": 5,
   "outputs": [
    {
     "name": "stdout",
     "output_type": "stream",
     "text": [
      "CPU times: user 2.56 s, sys: 20.9 ms, total: 2.58 s\n",
      "Wall time: 3.11 s\n"
     ]
    }
   ],
   "source": [
    "session_factory_arrow = DemoSQLSessionFactory(name=\"with arraw\")\n",
    "session_factory_arrow.add_config(\"spark.sql.execution.arrow.pyspark.enabled\",\"true\")\n",
    "%time test_performance(session_factory_arrow)"
   ],
   "metadata": {
    "collapsed": false,
    "pycharm": {
     "name": "#%%\n"
    }
   }
  },
  {
   "cell_type": "markdown",
   "source": [
    "常规的HelloWorld的example。\n",
    "页面上面的第一个例子。本质就是生成一个新的dataframe\n",
    "1. 在annotation上面列出的是新的dataframe的col和类型\n",
    "2. 他会自动的把pd的转换成spark的\n",
    "3. 函数应该会分批node执行。然后再汇总。因为我看到了。hello world的函数会被执行好几次"
   ],
   "metadata": {
    "collapsed": false
   }
  },
  {
   "cell_type": "code",
   "execution_count": 6,
   "outputs": [
    {
     "name": "stdout",
     "output_type": "stream",
     "text": [
      "+----+---+-------------------+\n",
      "|name|age|             salary|\n",
      "+----+---+-------------------+\n",
      "|   L|968| 0.4871012494101088|\n",
      "|   J|310| 0.2164529909895111|\n",
      "|   H|784| 0.9459266156019447|\n",
      "|   C|875| 0.1757703778152585|\n",
      "|   W|369|0.34885292079772745|\n",
      "|   J|259|    0.9833618918608|\n",
      "|   A|724|0.37111406445478035|\n",
      "|   H|659|0.19371750530598741|\n",
      "|   T|522|0.11004928119368063|\n",
      "|   O|971| 0.8169672921580708|\n",
      "|   L|766|0.22604935892515998|\n",
      "|   F|240| 0.2845676594137294|\n",
      "|   F|767|0.03420255096249325|\n",
      "|   I|604| 0.7210673035833547|\n",
      "|   L|560| 0.8370531228587831|\n",
      "|   R|961| 0.2337764138858095|\n",
      "|   Q|960|0.10799747674724702|\n",
      "|   A|262| 0.8642967644099723|\n",
      "|   G|873| 0.0977050978708397|\n",
      "|   Z|887| 0.2777555551588018|\n",
      "+----+---+-------------------+\n",
      "only showing top 20 rows\n",
      "\n"
     ]
    }
   ],
   "source": [
    "session_factory_arrow.add_config('spark.sql.execution.arrow.maxRecordsPerBatch',10)\n",
    "spark = session_factory_arrow.build_session()\n",
    "test_data = create_random_data(row_num=1000)\n",
    "basic_df = spark.createDataFrame(test_data,COLUMNS)\n",
    "basic_df.show()"
   ],
   "metadata": {
    "collapsed": false,
    "pycharm": {
     "name": "#%%\n"
    }
   }
  },
  {
   "cell_type": "code",
   "execution_count": 7,
   "outputs": [
    {
     "name": "stdout",
     "output_type": "stream",
     "text": [
      "+--------------------+\n",
      "|              result|\n",
      "+--------------------+\n",
      "| [968.4871012494101]|\n",
      "| [310.2164529909895]|\n",
      "| [784.9459266156019]|\n",
      "| [875.1757703778153]|\n",
      "|[369.34885292079775]|\n",
      "| [259.9833618918608]|\n",
      "| [724.3711140644548]|\n",
      "|  [659.193717505306]|\n",
      "| [522.1100492811937]|\n",
      "| [971.8169672921581]|\n",
      "| [766.2260493589251]|\n",
      "|[240.28456765941374]|\n",
      "| [767.0342025509625]|\n",
      "| [604.7210673035834]|\n",
      "| [560.8370531228588]|\n",
      "| [961.2337764138858]|\n",
      "| [960.1079974767473]|\n",
      "|[262.86429676440997]|\n",
      "| [873.0977050978709]|\n",
      "| [887.2777555551588]|\n",
      "+--------------------+\n",
      "only showing top 20 rows\n",
      "\n"
     ]
    }
   ],
   "source": [
    "@pandas_udf(\"total double\")\n",
    "def func(s1: pd.Series, s2: pd.Series) -> pd.DataFrame:\n",
    "    print(\"execute\")\n",
    "    s3 = pd.DataFrame()\n",
    "    s3['total'] = s1 + s2\n",
    "    return s3\n",
    "basic_df.select(func(\"age\",\"salary\").alias(\"result\")).show()"
   ],
   "metadata": {
    "collapsed": false,
    "pycharm": {
     "name": "#%%\n"
    }
   }
  },
  {
   "cell_type": "markdown",
   "source": [
    "主要是想要看看。select方法，不能不能接受一个List"
   ],
   "metadata": {
    "collapsed": false
   }
  },
  {
   "cell_type": "code",
   "execution_count": 8,
   "outputs": [
    {
     "name": "stdout",
     "output_type": "stream",
     "text": [
      "+---+-------------------+\n",
      "|age|             salary|\n",
      "+---+-------------------+\n",
      "|968| 0.4871012494101088|\n",
      "|310| 0.2164529909895111|\n",
      "|784| 0.9459266156019447|\n",
      "|875| 0.1757703778152585|\n",
      "|369|0.34885292079772745|\n",
      "|259|    0.9833618918608|\n",
      "|724|0.37111406445478035|\n",
      "|659|0.19371750530598741|\n",
      "|522|0.11004928119368063|\n",
      "|971| 0.8169672921580708|\n",
      "|766|0.22604935892515998|\n",
      "|240| 0.2845676594137294|\n",
      "|767|0.03420255096249325|\n",
      "|604| 0.7210673035833547|\n",
      "|560| 0.8370531228587831|\n",
      "|961| 0.2337764138858095|\n",
      "|960|0.10799747674724702|\n",
      "|262| 0.8642967644099723|\n",
      "|873| 0.0977050978708397|\n",
      "|887| 0.2777555551588018|\n",
      "+---+-------------------+\n",
      "only showing top 20 rows\n",
      "\n"
     ]
    }
   ],
   "source": [
    "def to_str_func(s1: pd.Series) -> pd.Series:\n",
    "    return s1.astype(dtype=str)\n",
    "to_str = pandas_udf(to_str_func, returnType=StringType())\n",
    "\n",
    "age_c = to_str(\"age\").alias(\"age\")\n",
    "salary_c = to_str(\"salary\").alias(\"salary\")\n",
    "selects = [age_c,salary_c]\n",
    "basic_df.select(selects).show()"
   ],
   "metadata": {
    "collapsed": false,
    "pycharm": {
     "name": "#%%\n"
    }
   }
  },
  {
   "cell_type": "markdown",
   "source": [
    "测试以下。如果参数是不定的行不行\n",
    "\n",
    "简单的来书，\n",
    "- 确定的column个数，用Series\n",
    "- 不确定用dataframe\n",
    "- iterator是类似用流"
   ],
   "metadata": {
    "collapsed": false
   }
  },
  {
   "cell_type": "code",
   "execution_count": 9,
   "outputs": [
    {
     "name": "stdout",
     "output_type": "stream",
     "text": [
      "+------------------+\n",
      "|            result|\n",
      "+------------------+\n",
      "|471.51400942898533|\n",
      "| 67.10042720674844|\n",
      "| 741.6064666319246|\n",
      "| 153.7990805883512|\n",
      "|128.72672777436142|\n",
      "| 254.6907299919472|\n",
      "|268.68658266526097|\n",
      "|127.65983599664571|\n",
      "|57.445724783101284|\n",
      "| 793.2752406854868|\n",
      "|173.15380893667253|\n",
      "| 68.29623825929505|\n",
      "|26.233356588232322|\n",
      "|435.52465136434625|\n",
      "|468.74974880091855|\n",
      "|224.65913374426293|\n",
      "|103.67757767735714|\n",
      "|226.44575227541273|\n",
      "| 85.29655044124306|\n",
      "| 246.3691774258572|\n",
      "+------------------+\n",
      "only showing top 20 rows\n",
      "\n"
     ]
    }
   ],
   "source": [
    "@pandas_udf(\"double\")\n",
    "def to_sum_func(data: pd.DataFrame) -> pd.Series:\n",
    "    return data.age*data.salary\n",
    "cols = [col(\"age\"),col(\"salary\")]\n",
    "headers = struct(cols)\n",
    "#my_sum = pandas_udf(to_sum_func, returnType=DoubleType())\n",
    "basic_df.select(to_sum_func(headers).alias(\"result\")).show()\n"
   ],
   "metadata": {
    "collapsed": false,
    "pycharm": {
     "name": "#%%\n"
    }
   }
  },
  {
   "cell_type": "markdown",
   "source": [
    "能不能用于SQL"
   ],
   "metadata": {
    "collapsed": false
   }
  },
  {
   "cell_type": "code",
   "execution_count": 10,
   "outputs": [
    {
     "name": "stdout",
     "output_type": "stream",
     "text": [
      "+------------------+\n",
      "|pandas_to_str(age)|\n",
      "+------------------+\n",
      "|               968|\n",
      "|               310|\n",
      "|               784|\n",
      "|               875|\n",
      "|               369|\n",
      "|               259|\n",
      "|               724|\n",
      "|               659|\n",
      "|               522|\n",
      "|               971|\n",
      "|               766|\n",
      "|               240|\n",
      "|               767|\n",
      "|               604|\n",
      "|               560|\n",
      "|               961|\n",
      "|               960|\n",
      "|               262|\n",
      "|               873|\n",
      "|               887|\n",
      "+------------------+\n",
      "only showing top 20 rows\n",
      "\n"
     ]
    }
   ],
   "source": [
    "basic_df.createOrReplaceTempView(\"pandas_udf\")\n",
    "spark.udf.register(\"pandas_to_str\", to_str)\n",
    "spark.sql(\"select pandas_to_str(age) from pandas_udf\").show()"
   ],
   "metadata": {
    "collapsed": false,
    "pycharm": {
     "name": "#%%\n"
    }
   }
  },
  {
   "cell_type": "markdown",
   "source": [
    "basic_df.createOrReplaceTempView(\"pandas_udf\")\n",
    "spark.udf.register(\"pandas_to_str\", to_str)\n",
    "spark.sql(\"select pandas_to_str(age) from pandas_udf\").show()"
   ],
   "metadata": {
    "collapsed": false,
    "pycharm": {
     "name": "#%% md\n"
    }
   }
  },
  {
   "cell_type": "markdown",
   "source": [
    "`__call__`这个方法能不能用哪用"
   ],
   "metadata": {
    "collapsed": false
   }
  },
  {
   "cell_type": "code",
   "execution_count": 11,
   "outputs": [
    {
     "name": "stdout",
     "output_type": "stream",
     "text": [
      "+------------------+\n",
      "|            result|\n",
      "+------------------+\n",
      "|471.51400942898533|\n",
      "| 67.10042720674844|\n",
      "| 741.6064666319246|\n",
      "| 153.7990805883512|\n",
      "|128.72672777436142|\n",
      "| 254.6907299919472|\n",
      "|268.68658266526097|\n",
      "|127.65983599664571|\n",
      "|57.445724783101284|\n",
      "| 793.2752406854868|\n",
      "|173.15380893667253|\n",
      "| 68.29623825929505|\n",
      "|26.233356588232322|\n",
      "|435.52465136434625|\n",
      "|468.74974880091855|\n",
      "|224.65913374426293|\n",
      "|103.67757767735714|\n",
      "|226.44575227541273|\n",
      "| 85.29655044124306|\n",
      "| 246.3691774258572|\n",
      "+------------------+\n",
      "only showing top 20 rows\n",
      "\n"
     ]
    }
   ],
   "source": [
    "class PandasFunc:\n",
    "    def __call__(self, data: pd.DataFrame)-> pd.Series:\n",
    "         return data.age*data.salary\n",
    "\n",
    "cols = [col(\"age\"),col(\"salary\")]\n",
    "headers = struct(cols)\n",
    "class_my_sum = pandas_udf(PandasFunc(), returnType=DoubleType())\n",
    "basic_df.select(class_my_sum(headers).alias(\"result\")).show()"
   ],
   "metadata": {
    "collapsed": false,
    "pycharm": {
     "name": "#%%\n"
    }
   }
  },
  {
   "cell_type": "markdown",
   "source": [
    "返回多列的处理方法。"
   ],
   "metadata": {
    "collapsed": false
   }
  },
  {
   "cell_type": "code",
   "execution_count": 12,
   "outputs": [
    {
     "name": "stdout",
     "output_type": "stream",
     "text": [
      "+---+-------------------+-----+-------------------+\n",
      "|age|             salary| col1|               col2|\n",
      "+---+-------------------+-----+-------------------+\n",
      "|968| 0.4871012494101088|968.0| 0.4871012494101088|\n",
      "|310| 0.2164529909895111|310.0| 0.2164529909895111|\n",
      "|784| 0.9459266156019447|784.0| 0.9459266156019447|\n",
      "|875| 0.1757703778152585|875.0| 0.1757703778152585|\n",
      "|369|0.34885292079772745|369.0|0.34885292079772745|\n",
      "|259|    0.9833618918608|259.0|    0.9833618918608|\n",
      "|724|0.37111406445478035|724.0|0.37111406445478035|\n",
      "|659|0.19371750530598741|659.0|0.19371750530598741|\n",
      "|522|0.11004928119368063|522.0|0.11004928119368063|\n",
      "|971| 0.8169672921580708|971.0| 0.8169672921580708|\n",
      "|766|0.22604935892515998|766.0|0.22604935892515998|\n",
      "|240| 0.2845676594137294|240.0| 0.2845676594137294|\n",
      "|767|0.03420255096249325|767.0|0.03420255096249325|\n",
      "|604| 0.7210673035833547|604.0| 0.7210673035833547|\n",
      "|560| 0.8370531228587831|560.0| 0.8370531228587831|\n",
      "|961| 0.2337764138858095|961.0| 0.2337764138858095|\n",
      "|960|0.10799747674724702|960.0|0.10799747674724702|\n",
      "|262| 0.8642967644099723|262.0| 0.8642967644099723|\n",
      "|873| 0.0977050978708397|873.0| 0.0977050978708397|\n",
      "|887| 0.2777555551588018|887.0| 0.2777555551588018|\n",
      "+---+-------------------+-----+-------------------+\n",
      "only showing top 20 rows\n",
      "\n"
     ]
    }
   ],
   "source": [
    "@pandas_udf(\"col1 double, col2 double\")\n",
    "def to_multi_return_func(data: pd.DataFrame) -> pd.DataFrame:\n",
    "    print(\"execute\")\n",
    "    s3 = pd.DataFrame()\n",
    "    s3['col1'] = data.age\n",
    "    s3['col2'] = data.salary\n",
    "    return s3\n",
    "cols = [col(\"age\"),col(\"salary\")]\n",
    "headers = struct(cols)\n",
    "#my_sum = pandas_udf(to_sum_func, returnType=DoubleType())\n",
    "multi_return_df = basic_df.withColumn(\"abc\",to_multi_return_func(headers))\n",
    "multi_return_df.select(col(\"age\"),col(\"salary\"),col(\"abc.col1\"),col(\"abc.col2\")).show()\n"
   ],
   "metadata": {
    "collapsed": false,
    "pycharm": {
     "name": "#%%\n"
    }
   }
  }
 ],
 "metadata": {
  "kernelspec": {
   "display_name": "Python 3",
   "language": "python",
   "name": "python3"
  },
  "language_info": {
   "codemirror_mode": {
    "name": "ipython",
    "version": 2
   },
   "file_extension": ".py",
   "mimetype": "text/x-python",
   "name": "python",
   "nbconvert_exporter": "python",
   "pygments_lexer": "ipython2",
   "version": "2.7.6"
  }
 },
 "nbformat": 4,
 "nbformat_minor": 0
}