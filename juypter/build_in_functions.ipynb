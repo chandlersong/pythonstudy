{
 "cells": [
  {
   "cell_type": "code",
   "execution_count": 35,
   "metadata": {
    "collapsed": true
   },
   "outputs": [
    {
     "name": "stdout",
     "output_type": "stream",
     "text": [
      "The autoreload extension is already loaded. To reload it, use:\n",
      "  %reload_ext autoreload\n"
     ]
    }
   ],
   "source": [
    "from pyspark.sql import Window\n",
    "from pyspark.sql.functions import lag, col, row_number, lit\n",
    "from sparkstudy.deploy.demo_sessions import DemoSQLSessionFactory\n",
    "from sparkstudy.libs.tools import create_random_data\n",
    "%load_ext autoreload\n",
    "%autoreload 2\n",
    "%matplotlib inline"
   ]
  },
  {
   "cell_type": "code",
   "execution_count": 36,
   "outputs": [
    {
     "name": "stdout",
     "output_type": "stream",
     "text": [
      "+----+---+-------------------+\n",
      "|name|age|             salary|\n",
      "+----+---+-------------------+\n",
      "|   Q|  1| 0.6421234209606654|\n",
      "|   H|  4| 0.2223963428660244|\n",
      "|   A|  1| 0.2953065373867898|\n",
      "|   F|  3|0.18001048276677545|\n",
      "|   E|  5|0.04887312937966426|\n",
      "|   O| 10|0.04038771202528457|\n",
      "|   J|  7|  0.129799869320246|\n",
      "|   S|  8| 0.6409452812403059|\n",
      "|   B|  7| 0.5394980172932448|\n",
      "|   Z|  6|  0.320494652358459|\n",
      "+----+---+-------------------+\n",
      "\n"
     ]
    }
   ],
   "source": [
    "COLUMNS = [\"name\",\"age\",\"salary\"]\n",
    "session_factory_normal = DemoSQLSessionFactory(name=\"normal\")\n",
    "data = create_random_data(10)\n",
    "spark_session = session_factory_normal.build_session()\n",
    "df = spark_session.createDataFrame(data,COLUMNS).cache()\n",
    "df.show()"
   ],
   "metadata": {
    "collapsed": false,
    "pycharm": {
     "name": "#%%\n"
    }
   }
  },
  {
   "cell_type": "markdown",
   "source": [
    "本来想要实验一下怎么shift的。结果发现在spark里面，这类操作必须通过window"
   ],
   "metadata": {
    "collapsed": false
   }
  },
  {
   "cell_type": "code",
   "execution_count": 37,
   "outputs": [
    {
     "name": "stdout",
     "output_type": "stream",
     "text": [
      "+----+---+-------------------+-------+\n",
      "|name|age|             salary|new_col|\n",
      "+----+---+-------------------+-------+\n",
      "|   F|  3|0.18001048276677545|   null|\n",
      "|   Q|  1| 0.6421234209606654|   null|\n",
      "|   E|  5|0.04887312937966426|   null|\n",
      "|   B|  7| 0.5394980172932448|   null|\n",
      "|   O| 10|0.04038771202528457|   null|\n",
      "|   J|  7|  0.129799869320246|   null|\n",
      "|   Z|  6|  0.320494652358459|   null|\n",
      "|   A|  1| 0.2953065373867898|   null|\n",
      "|   S|  8| 0.6409452812403059|   null|\n",
      "|   H|  4| 0.2223963428660244|   null|\n",
      "+----+---+-------------------+-------+\n",
      "\n"
     ]
    }
   ],
   "source": [
    "w = Window().partitionBy(\"name\").orderBy(col(\"name\"))\n",
    "df.select(\"*\", lag(\"age\").over(w).alias(\"new_col\")).show()"
   ],
   "metadata": {
    "collapsed": false,
    "pycharm": {
     "name": "#%%\n"
    }
   }
  },
  {
   "cell_type": "code",
   "execution_count": 38,
   "outputs": [
    {
     "name": "stdout",
     "output_type": "stream",
     "text": [
      "+----+---+-------------------+-------+\n",
      "|name|age|             salary|new_col|\n",
      "+----+---+-------------------+-------+\n",
      "|   Q|  1| 0.6421234209606654|   null|\n",
      "|   H|  4| 0.2223963428660244|   null|\n",
      "|   A|  1| 0.2953065373867898|      1|\n",
      "|   F|  3|0.18001048276677545|      4|\n",
      "|   E|  5|0.04887312937966426|      1|\n",
      "|   O| 10|0.04038771202528457|      3|\n",
      "|   J|  7|  0.129799869320246|      5|\n",
      "|   S|  8| 0.6409452812403059|     10|\n",
      "|   B|  7| 0.5394980172932448|      7|\n",
      "|   Z|  6|  0.320494652358459|      8|\n",
      "+----+---+-------------------+-------+\n",
      "\n"
     ]
    }
   ],
   "source": [
    "w = Window().partitionBy().orderBy(lit(1))\n",
    "df.select(\"*\", lag(\"age\",2).over(w).alias(\"new_col\")).show()"
   ],
   "metadata": {
    "collapsed": false,
    "pycharm": {
     "name": "#%%\n"
    }
   }
  }
 ],
 "metadata": {
  "kernelspec": {
   "display_name": "Python 3",
   "language": "python",
   "name": "python3"
  },
  "language_info": {
   "codemirror_mode": {
    "name": "ipython",
    "version": 2
   },
   "file_extension": ".py",
   "mimetype": "text/x-python",
   "name": "python",
   "nbconvert_exporter": "python",
   "pygments_lexer": "ipython2",
   "version": "2.7.6"
  }
 },
 "nbformat": 4,
 "nbformat_minor": 0
}