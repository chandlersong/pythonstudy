{
 "cells": [
  {
   "cell_type": "code",
   "execution_count": 39,
   "metadata": {
    "collapsed": true
   },
   "outputs": [
    {
     "name": "stdout",
     "output_type": "stream",
     "text": [
      "The autoreload extension is already loaded. To reload it, use:\n",
      "  %reload_ext autoreload\n"
     ]
    }
   ],
   "source": [
    "from pyspark.sql import Window\n",
    "from pyspark.sql.functions import lag, col, lit, lead\n",
    "from sparkstudy.deploy.demo_sessions import DemoSQLSessionFactory\n",
    "from sparkstudy.libs.tools import create_random_data\n",
    "%load_ext autoreload\n",
    "%autoreload 2\n",
    "%matplotlib inline"
   ]
  },
  {
   "cell_type": "code",
   "execution_count": 40,
   "outputs": [
    {
     "name": "stdout",
     "output_type": "stream",
     "text": [
      "+----+---+--------------------+\n",
      "|name|age|              salary|\n",
      "+----+---+--------------------+\n",
      "|   K|  3| 0.02161606520352055|\n",
      "|   Q|  3|  0.6326711203749021|\n",
      "|   S|  8| 0.43131405222650354|\n",
      "|   J| 10|  0.5438762312917514|\n",
      "|   L|  1|  0.7336759510839976|\n",
      "|   X|  9| 0.43158267183230636|\n",
      "|   B|  9|0.030009665330478774|\n",
      "|   G|  1| 0.42449551735018554|\n",
      "|   T|  9|  0.7102168420016252|\n",
      "|   G|  6|  0.2548856167145863|\n",
      "+----+---+--------------------+\n",
      "\n"
     ]
    }
   ],
   "source": [
    "COLUMNS = [\"name\",\"age\",\"salary\"]\n",
    "session_factory_normal = DemoSQLSessionFactory(name=\"normal\")\n",
    "data = create_random_data(10)\n",
    "spark_session = session_factory_normal.build_session()\n",
    "df = spark_session.createDataFrame(data,COLUMNS).cache()\n",
    "df.show()"
   ],
   "metadata": {
    "collapsed": false,
    "pycharm": {
     "name": "#%%\n"
    }
   }
  },
  {
   "cell_type": "markdown",
   "source": [
    "本来想要实验一下怎么shift的。结果发现在spark里面，这类操作必须通过window"
   ],
   "metadata": {
    "collapsed": false
   }
  },
  {
   "cell_type": "code",
   "execution_count": 41,
   "outputs": [
    {
     "name": "stdout",
     "output_type": "stream",
     "text": [
      "+----+---+--------------------+-------+\n",
      "|name|age|              salary|new_col|\n",
      "+----+---+--------------------+-------+\n",
      "|   K|  3| 0.02161606520352055|   null|\n",
      "|   Q|  3|  0.6326711203749021|   null|\n",
      "|   T|  9|  0.7102168420016252|   null|\n",
      "|   B|  9|0.030009665330478774|   null|\n",
      "|   L|  1|  0.7336759510839976|   null|\n",
      "|   J| 10|  0.5438762312917514|   null|\n",
      "|   X|  9| 0.43158267183230636|   null|\n",
      "|   S|  8| 0.43131405222650354|   null|\n",
      "|   G|  1| 0.42449551735018554|   null|\n",
      "|   G|  6|  0.2548856167145863|      1|\n",
      "+----+---+--------------------+-------+\n",
      "\n"
     ]
    }
   ],
   "source": [
    "w = Window().partitionBy(\"name\").orderBy(col(\"name\"))\n",
    "df.select(\"*\", lag(\"age\").over(w).alias(\"new_col\")).show()"
   ],
   "metadata": {
    "collapsed": false,
    "pycharm": {
     "name": "#%%\n"
    }
   }
  },
  {
   "cell_type": "markdown",
   "source": [
    "类似于禁用orderby"
   ],
   "metadata": {
    "collapsed": false,
    "pycharm": {
     "name": "#%% md\n"
    }
   }
  },
  {
   "cell_type": "code",
   "execution_count": 42,
   "outputs": [
    {
     "name": "stdout",
     "output_type": "stream",
     "text": [
      "+----+---+--------------------+-------+\n",
      "|name|age|              salary|new_col|\n",
      "+----+---+--------------------+-------+\n",
      "|   K|  3| 0.02161606520352055|   null|\n",
      "|   Q|  3|  0.6326711203749021|   null|\n",
      "|   S|  8| 0.43131405222650354|      3|\n",
      "|   J| 10|  0.5438762312917514|      3|\n",
      "|   L|  1|  0.7336759510839976|      8|\n",
      "|   X|  9| 0.43158267183230636|     10|\n",
      "|   B|  9|0.030009665330478774|      1|\n",
      "|   G|  1| 0.42449551735018554|      9|\n",
      "|   T|  9|  0.7102168420016252|      9|\n",
      "|   G|  6|  0.2548856167145863|      1|\n",
      "+----+---+--------------------+-------+\n",
      "\n"
     ]
    }
   ],
   "source": [
    "w = Window().partitionBy().orderBy(lit(1))\n",
    "df.select(\"*\", lag(\"age\",2).over(w).alias(\"new_col\")).show()"
   ],
   "metadata": {
    "collapsed": false,
    "pycharm": {
     "name": "#%%\n"
    }
   }
  },
  {
   "cell_type": "code",
   "execution_count": 43,
   "outputs": [
    {
     "name": "stdout",
     "output_type": "stream",
     "text": [
      "+----+---+--------------------+-------+\n",
      "|name|age|              salary|new_col|\n",
      "+----+---+--------------------+-------+\n",
      "|   K|  3| 0.02161606520352055|      8|\n",
      "|   Q|  3|  0.6326711203749021|     10|\n",
      "|   S|  8| 0.43131405222650354|      1|\n",
      "|   J| 10|  0.5438762312917514|      9|\n",
      "|   L|  1|  0.7336759510839976|      9|\n",
      "|   X|  9| 0.43158267183230636|      1|\n",
      "|   B|  9|0.030009665330478774|      9|\n",
      "|   G|  1| 0.42449551735018554|      6|\n",
      "|   T|  9|  0.7102168420016252|   null|\n",
      "|   G|  6|  0.2548856167145863|   null|\n",
      "+----+---+--------------------+-------+\n",
      "\n"
     ]
    }
   ],
   "source": [
    "w = Window().partitionBy().orderBy(lit(1))\n",
    "df.select(\"*\", lead(\"age\",2).over(w).alias(\"new_col\")).show()"
   ],
   "metadata": {
    "collapsed": false,
    "pycharm": {
     "name": "#%%\n"
    }
   }
  }
 ],
 "metadata": {
  "kernelspec": {
   "display_name": "Python 3",
   "language": "python",
   "name": "python3"
  },
  "language_info": {
   "codemirror_mode": {
    "name": "ipython",
    "version": 2
   },
   "file_extension": ".py",
   "mimetype": "text/x-python",
   "name": "python",
   "nbconvert_exporter": "python",
   "pygments_lexer": "ipython2",
   "version": "2.7.6"
  }
 },
 "nbformat": 4,
 "nbformat_minor": 0
}