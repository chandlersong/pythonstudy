{
 "cells": [
  {
   "cell_type": "code",
   "execution_count": 2,
   "metadata": {
    "collapsed": true
   },
   "outputs": [],
   "source": [
    "from pyspark.sql import Window\n",
    "from pyspark.sql.functions import lag, col, lit, lead\n",
    "from sparkstudy.deploy.demo_sessions import DemoSQLSessionFactory\n",
    "from sparkstudy.libs.tools import create_random_data\n",
    "%load_ext autoreload\n",
    "%autoreload 2\n",
    "%matplotlib inline"
   ]
  },
  {
   "cell_type": "code",
   "execution_count": 3,
   "outputs": [
    {
     "name": "stdout",
     "output_type": "stream",
     "text": [
      "+----+---+--------------------+\n",
      "|name|age|              salary|\n",
      "+----+---+--------------------+\n",
      "|   D|  3|  0.2883449937034951|\n",
      "|   O|  1|  0.8952704771774317|\n",
      "|   F|  2|  0.2622462757336257|\n",
      "|   A|  6|  0.7930823582184781|\n",
      "|   Y|  5| 0.16709710188277627|\n",
      "|   M|  8|  0.8183381439211345|\n",
      "|   H|  9|  0.8052992150655519|\n",
      "|   L|  2|0.059200771680881004|\n",
      "|   K|  2|   0.893548986244985|\n",
      "|   B|  9|0.026260197849612976|\n",
      "+----+---+--------------------+\n",
      "\n"
     ]
    }
   ],
   "source": [
    "COLUMNS = [\"name\",\"age\",\"salary\"]\n",
    "session_factory_normal = DemoSQLSessionFactory(name=\"normal\")\n",
    "data = create_random_data(10)\n",
    "spark_session = session_factory_normal.build_session()\n",
    "df = spark_session.createDataFrame(data,COLUMNS).cache()\n",
    "df.show()"
   ],
   "metadata": {
    "collapsed": false,
    "pycharm": {
     "name": "#%%\n"
    }
   }
  },
  {
   "cell_type": "markdown",
   "source": [
    "本来想要实验一下怎么shift的。结果发现在spark里面，这类操作必须通过window"
   ],
   "metadata": {
    "collapsed": false
   }
  },
  {
   "cell_type": "code",
   "execution_count": 4,
   "outputs": [
    {
     "name": "stdout",
     "output_type": "stream",
     "text": [
      "+----+---+--------------------+-------+\n",
      "|name|age|              salary|new_col|\n",
      "+----+---+--------------------+-------+\n",
      "|   K|  2|   0.893548986244985|   null|\n",
      "|   F|  2|  0.2622462757336257|   null|\n",
      "|   B|  9|0.026260197849612976|   null|\n",
      "|   Y|  5| 0.16709710188277627|   null|\n",
      "|   L|  2|0.059200771680881004|   null|\n",
      "|   M|  8|  0.8183381439211345|   null|\n",
      "|   D|  3|  0.2883449937034951|   null|\n",
      "|   O|  1|  0.8952704771774317|   null|\n",
      "|   A|  6|  0.7930823582184781|   null|\n",
      "|   H|  9|  0.8052992150655519|   null|\n",
      "+----+---+--------------------+-------+\n",
      "\n"
     ]
    }
   ],
   "source": [
    "w = Window().partitionBy(\"name\").orderBy(col(\"name\"))\n",
    "df.select(\"*\", lag(\"age\").over(w).alias(\"new_col\")).show()"
   ],
   "metadata": {
    "collapsed": false,
    "pycharm": {
     "name": "#%%\n"
    }
   }
  },
  {
   "cell_type": "markdown",
   "source": [
    "类似于禁用orderby"
   ],
   "metadata": {
    "collapsed": false,
    "pycharm": {
     "name": "#%% md\n"
    }
   }
  },
  {
   "cell_type": "code",
   "execution_count": 5,
   "outputs": [
    {
     "name": "stdout",
     "output_type": "stream",
     "text": [
      "+----+---+--------------------+-------+\n",
      "|name|age|              salary|new_col|\n",
      "+----+---+--------------------+-------+\n",
      "|   D|  3|  0.2883449937034951|   null|\n",
      "|   O|  1|  0.8952704771774317|   null|\n",
      "|   F|  2|  0.2622462757336257|      3|\n",
      "|   A|  6|  0.7930823582184781|      1|\n",
      "|   Y|  5| 0.16709710188277627|      2|\n",
      "|   M|  8|  0.8183381439211345|      6|\n",
      "|   H|  9|  0.8052992150655519|      5|\n",
      "|   L|  2|0.059200771680881004|      8|\n",
      "|   K|  2|   0.893548986244985|      9|\n",
      "|   B|  9|0.026260197849612976|      2|\n",
      "+----+---+--------------------+-------+\n",
      "\n"
     ]
    }
   ],
   "source": [
    "w = Window().partitionBy().orderBy(lit(1))\n",
    "df.select(\"*\", lag(\"age\",2).over(w).alias(\"new_col\")).show()"
   ],
   "metadata": {
    "collapsed": false,
    "pycharm": {
     "name": "#%%\n"
    }
   }
  },
  {
   "cell_type": "code",
   "execution_count": 6,
   "outputs": [
    {
     "name": "stdout",
     "output_type": "stream",
     "text": [
      "+----+---+--------------------+-------+\n",
      "|name|age|              salary|new_col|\n",
      "+----+---+--------------------+-------+\n",
      "|   D|  3|  0.2883449937034951|      2|\n",
      "|   O|  1|  0.8952704771774317|      6|\n",
      "|   F|  2|  0.2622462757336257|      5|\n",
      "|   A|  6|  0.7930823582184781|      8|\n",
      "|   Y|  5| 0.16709710188277627|      9|\n",
      "|   M|  8|  0.8183381439211345|      2|\n",
      "|   H|  9|  0.8052992150655519|      2|\n",
      "|   L|  2|0.059200771680881004|      9|\n",
      "|   K|  2|   0.893548986244985|   null|\n",
      "|   B|  9|0.026260197849612976|   null|\n",
      "+----+---+--------------------+-------+\n",
      "\n"
     ]
    }
   ],
   "source": [
    "w = Window().partitionBy().orderBy(lit(1))\n",
    "df.select(\"*\", lead(\"age\",2).over(w).alias(\"new_col\")).show()\n",
    "\n"
   ],
   "metadata": {
    "collapsed": false,
    "pycharm": {
     "name": "#%%\n"
    }
   }
  }
 ],
 "metadata": {
  "kernelspec": {
   "display_name": "Python 3",
   "language": "python",
   "name": "python3"
  },
  "language_info": {
   "codemirror_mode": {
    "name": "ipython",
    "version": 2
   },
   "file_extension": ".py",
   "mimetype": "text/x-python",
   "name": "python",
   "nbconvert_exporter": "python",
   "pygments_lexer": "ipython2",
   "version": "2.7.6"
  }
 },
 "nbformat": 4,
 "nbformat_minor": 0
}