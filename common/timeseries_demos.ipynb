{
 "cells": [
  {
   "cell_type": "code",
   "execution_count": 1,
   "metadata": {
    "collapsed": true
   },
   "outputs": [
    {
     "data": {
      "text/plain": "DatetimeIndex(['2018-01-01', '2018-01-01', '2018-01-01'], dtype='datetime64[ns]', freq=None)"
     },
     "execution_count": 1,
     "metadata": {},
     "output_type": "execute_result"
    }
   ],
   "source": [
    "import datetime\n",
    "\n",
    "import numpy as np\n",
    "import pandas as pd\n",
    "\n",
    "dti = pd.to_datetime(['1/1/2018', np.datetime64('2018-01-01'),  datetime.datetime(2018, 1, 1)])\n",
    "dti"
   ]
  },
  {
   "cell_type": "code",
   "execution_count": 2,
   "outputs": [],
   "source": [
    "start = datetime.datetime(2011, 1, 1)\n",
    "end = datetime.date(2011,1,10)\n",
    "date_index =pd.date_range(start, periods=20,freq=\"W\")\n",
    "data = pd.DataFrame({\"values\":np.arange(0,20)},index=date_index)"
   ],
   "metadata": {
    "collapsed": false,
    "pycharm": {
     "name": "#%%\n"
    }
   }
  },
  {
   "cell_type": "code",
   "execution_count": 8,
   "outputs": [
    {
     "data": {
      "text/plain": "DatetimeIndex(['2011-01-02', '2011-01-09', '2011-01-16', '2011-01-23',\n               '2011-01-30', '2011-02-06', '2011-02-13', '2011-02-20',\n               '2011-02-27', '2011-03-06', '2011-03-13', '2011-03-20',\n               '2011-03-27', '2011-04-03', '2011-04-10', '2011-04-17',\n               '2011-04-24', '2011-05-01', '2011-05-08', '2011-05-15'],\n              dtype='datetime64[ns]', freq='W-SUN')"
     },
     "execution_count": 8,
     "metadata": {},
     "output_type": "execute_result"
    }
   ],
   "source": [
    "data.index.get_level_values(0)"
   ],
   "metadata": {
    "collapsed": false,
    "pycharm": {
     "name": "#%%\n"
    }
   }
  },
  {
   "cell_type": "code",
   "execution_count": 3,
   "outputs": [
    {
     "data": {
      "text/plain": "            values\n2011-01-02       0\n2011-01-09       1\n2011-01-16       2\n2011-01-23       3\n2011-01-30       4",
      "text/html": "<div>\n<style scoped>\n    .dataframe tbody tr th:only-of-type {\n        vertical-align: middle;\n    }\n\n    .dataframe tbody tr th {\n        vertical-align: top;\n    }\n\n    .dataframe thead th {\n        text-align: right;\n    }\n</style>\n<table border=\"1\" class=\"dataframe\">\n  <thead>\n    <tr style=\"text-align: right;\">\n      <th></th>\n      <th>values</th>\n    </tr>\n  </thead>\n  <tbody>\n    <tr>\n      <th>2011-01-02</th>\n      <td>0</td>\n    </tr>\n    <tr>\n      <th>2011-01-09</th>\n      <td>1</td>\n    </tr>\n    <tr>\n      <th>2011-01-16</th>\n      <td>2</td>\n    </tr>\n    <tr>\n      <th>2011-01-23</th>\n      <td>3</td>\n    </tr>\n    <tr>\n      <th>2011-01-30</th>\n      <td>4</td>\n    </tr>\n  </tbody>\n</table>\n</div>"
     },
     "execution_count": 3,
     "metadata": {},
     "output_type": "execute_result"
    }
   ],
   "source": [
    "data['2011-1']"
   ],
   "metadata": {
    "collapsed": false,
    "pycharm": {
     "name": "#%%\n"
    }
   }
  },
  {
   "cell_type": "code",
   "execution_count": 4,
   "outputs": [
    {
     "data": {
      "text/plain": "            values\n2011-01-02       0\n2011-01-09       1\n2011-01-16       2\n2011-01-23       3\n2011-01-30       4\n2011-02-06       5\n2011-02-13       6\n2011-02-20       7\n2011-02-27       8",
      "text/html": "<div>\n<style scoped>\n    .dataframe tbody tr th:only-of-type {\n        vertical-align: middle;\n    }\n\n    .dataframe tbody tr th {\n        vertical-align: top;\n    }\n\n    .dataframe thead th {\n        text-align: right;\n    }\n</style>\n<table border=\"1\" class=\"dataframe\">\n  <thead>\n    <tr style=\"text-align: right;\">\n      <th></th>\n      <th>values</th>\n    </tr>\n  </thead>\n  <tbody>\n    <tr>\n      <th>2011-01-02</th>\n      <td>0</td>\n    </tr>\n    <tr>\n      <th>2011-01-09</th>\n      <td>1</td>\n    </tr>\n    <tr>\n      <th>2011-01-16</th>\n      <td>2</td>\n    </tr>\n    <tr>\n      <th>2011-01-23</th>\n      <td>3</td>\n    </tr>\n    <tr>\n      <th>2011-01-30</th>\n      <td>4</td>\n    </tr>\n    <tr>\n      <th>2011-02-06</th>\n      <td>5</td>\n    </tr>\n    <tr>\n      <th>2011-02-13</th>\n      <td>6</td>\n    </tr>\n    <tr>\n      <th>2011-02-20</th>\n      <td>7</td>\n    </tr>\n    <tr>\n      <th>2011-02-27</th>\n      <td>8</td>\n    </tr>\n  </tbody>\n</table>\n</div>"
     },
     "execution_count": 4,
     "metadata": {},
     "output_type": "execute_result"
    }
   ],
   "source": [
    "data['2011-1':'2011-2']"
   ],
   "metadata": {
    "collapsed": false,
    "pycharm": {
     "name": "#%%\n"
    }
   }
  },
  {
   "cell_type": "code",
   "execution_count": 5,
   "outputs": [
    {
     "data": {
      "text/plain": "            values\n2011-01-02       0\n2011-01-09       1\n2011-01-16       2\n2011-01-23       3\n2011-01-30       4",
      "text/html": "<div>\n<style scoped>\n    .dataframe tbody tr th:only-of-type {\n        vertical-align: middle;\n    }\n\n    .dataframe tbody tr th {\n        vertical-align: top;\n    }\n\n    .dataframe thead th {\n        text-align: right;\n    }\n</style>\n<table border=\"1\" class=\"dataframe\">\n  <thead>\n    <tr style=\"text-align: right;\">\n      <th></th>\n      <th>values</th>\n    </tr>\n  </thead>\n  <tbody>\n    <tr>\n      <th>2011-01-02</th>\n      <td>0</td>\n    </tr>\n    <tr>\n      <th>2011-01-09</th>\n      <td>1</td>\n    </tr>\n    <tr>\n      <th>2011-01-16</th>\n      <td>2</td>\n    </tr>\n    <tr>\n      <th>2011-01-23</th>\n      <td>3</td>\n    </tr>\n    <tr>\n      <th>2011-01-30</th>\n      <td>4</td>\n    </tr>\n  </tbody>\n</table>\n</div>"
     },
     "execution_count": 5,
     "metadata": {},
     "output_type": "execute_result"
    }
   ],
   "source": [
    "short_data = data.head(5)\n",
    "short_data"
   ],
   "metadata": {
    "collapsed": false,
    "pycharm": {
     "name": "#%%\n"
    }
   }
  },
  {
   "cell_type": "code",
   "execution_count": 6,
   "outputs": [
    {
     "data": {
      "text/plain": "            values\n2011-01-02     NaN\n2011-01-09     NaN\n2011-01-16     0.0\n2011-01-23     1.0\n2011-01-30     2.0",
      "text/html": "<div>\n<style scoped>\n    .dataframe tbody tr th:only-of-type {\n        vertical-align: middle;\n    }\n\n    .dataframe tbody tr th {\n        vertical-align: top;\n    }\n\n    .dataframe thead th {\n        text-align: right;\n    }\n</style>\n<table border=\"1\" class=\"dataframe\">\n  <thead>\n    <tr style=\"text-align: right;\">\n      <th></th>\n      <th>values</th>\n    </tr>\n  </thead>\n  <tbody>\n    <tr>\n      <th>2011-01-02</th>\n      <td>NaN</td>\n    </tr>\n    <tr>\n      <th>2011-01-09</th>\n      <td>NaN</td>\n    </tr>\n    <tr>\n      <th>2011-01-16</th>\n      <td>0.0</td>\n    </tr>\n    <tr>\n      <th>2011-01-23</th>\n      <td>1.0</td>\n    </tr>\n    <tr>\n      <th>2011-01-30</th>\n      <td>2.0</td>\n    </tr>\n  </tbody>\n</table>\n</div>"
     },
     "execution_count": 6,
     "metadata": {},
     "output_type": "execute_result"
    }
   ],
   "source": [
    "short_data.shift(2)"
   ],
   "metadata": {
    "collapsed": false,
    "pycharm": {
     "name": "#%%\n"
    }
   }
  },
  {
   "cell_type": "code",
   "execution_count": 7,
   "outputs": [
    {
     "data": {
      "text/plain": "            values\n2011-01-02     0.0\n2011-01-09     1.0\n2011-01-16     2.0\n2011-01-23     3.0\n2011-01-30     4.0\n2011-02-06     5.0\n2011-02-13     6.0\n2011-02-20     7.0\n2011-02-27     8.0\n2011-03-06     9.0\n2011-03-13    10.0\n2011-03-20    11.0\n2011-03-27    12.0\n2011-04-03    13.0\n2011-04-10    14.0\n2011-04-17    15.0\n2011-04-24    16.0\n2011-05-01    17.0\n2011-05-08    18.0\n2011-05-15    19.0",
      "text/html": "<div>\n<style scoped>\n    .dataframe tbody tr th:only-of-type {\n        vertical-align: middle;\n    }\n\n    .dataframe tbody tr th {\n        vertical-align: top;\n    }\n\n    .dataframe thead th {\n        text-align: right;\n    }\n</style>\n<table border=\"1\" class=\"dataframe\">\n  <thead>\n    <tr style=\"text-align: right;\">\n      <th></th>\n      <th>values</th>\n    </tr>\n  </thead>\n  <tbody>\n    <tr>\n      <th>2011-01-02</th>\n      <td>0.0</td>\n    </tr>\n    <tr>\n      <th>2011-01-09</th>\n      <td>1.0</td>\n    </tr>\n    <tr>\n      <th>2011-01-16</th>\n      <td>2.0</td>\n    </tr>\n    <tr>\n      <th>2011-01-23</th>\n      <td>3.0</td>\n    </tr>\n    <tr>\n      <th>2011-01-30</th>\n      <td>4.0</td>\n    </tr>\n    <tr>\n      <th>2011-02-06</th>\n      <td>5.0</td>\n    </tr>\n    <tr>\n      <th>2011-02-13</th>\n      <td>6.0</td>\n    </tr>\n    <tr>\n      <th>2011-02-20</th>\n      <td>7.0</td>\n    </tr>\n    <tr>\n      <th>2011-02-27</th>\n      <td>8.0</td>\n    </tr>\n    <tr>\n      <th>2011-03-06</th>\n      <td>9.0</td>\n    </tr>\n    <tr>\n      <th>2011-03-13</th>\n      <td>10.0</td>\n    </tr>\n    <tr>\n      <th>2011-03-20</th>\n      <td>11.0</td>\n    </tr>\n    <tr>\n      <th>2011-03-27</th>\n      <td>12.0</td>\n    </tr>\n    <tr>\n      <th>2011-04-03</th>\n      <td>13.0</td>\n    </tr>\n    <tr>\n      <th>2011-04-10</th>\n      <td>14.0</td>\n    </tr>\n    <tr>\n      <th>2011-04-17</th>\n      <td>15.0</td>\n    </tr>\n    <tr>\n      <th>2011-04-24</th>\n      <td>16.0</td>\n    </tr>\n    <tr>\n      <th>2011-05-01</th>\n      <td>17.0</td>\n    </tr>\n    <tr>\n      <th>2011-05-08</th>\n      <td>18.0</td>\n    </tr>\n    <tr>\n      <th>2011-05-15</th>\n      <td>19.0</td>\n    </tr>\n  </tbody>\n</table>\n</div>"
     },
     "execution_count": 7,
     "metadata": {},
     "output_type": "execute_result"
    }
   ],
   "source": [
    "window_data = data.copy()\n",
    "r = window_data.rolling(window=1)\n",
    "r.mean()"
   ],
   "metadata": {
    "collapsed": false,
    "pycharm": {
     "name": "#%%\n"
    }
   }
  }
 ],
 "metadata": {
  "kernelspec": {
   "display_name": "Python 3",
   "language": "python",
   "name": "python3"
  },
  "language_info": {
   "codemirror_mode": {
    "name": "ipython",
    "version": 2
   },
   "file_extension": ".py",
   "mimetype": "text/x-python",
   "name": "python",
   "nbconvert_exporter": "python",
   "pygments_lexer": "ipython2",
   "version": "2.7.6"
  }
 },
 "nbformat": 4,
 "nbformat_minor": 0
}