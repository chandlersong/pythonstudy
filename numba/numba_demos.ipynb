{
 "cells": [
  {
   "cell_type": "code",
   "execution_count": 3,
   "metadata": {
    "collapsed": true
   },
   "outputs": [
    {
     "data": {
      "text/plain": "       A   B   C   D   E\n0     57  35  66  42  97\n1     94  87  10  72  78\n2     71  87  90  91  81\n3     87  81  16  41  68\n4     70  90  38  68  28\n...   ..  ..  ..  ..  ..\n9995  49  29  68  97  52\n9996  49  42  95  92  80\n9997  76  41  54  24  21\n9998  58  92  64  59  11\n9999  79  20  26  52   8\n\n[10000 rows x 5 columns]",
      "text/html": "<div>\n<style scoped>\n    .dataframe tbody tr th:only-of-type {\n        vertical-align: middle;\n    }\n\n    .dataframe tbody tr th {\n        vertical-align: top;\n    }\n\n    .dataframe thead th {\n        text-align: right;\n    }\n</style>\n<table border=\"1\" class=\"dataframe\">\n  <thead>\n    <tr style=\"text-align: right;\">\n      <th></th>\n      <th>A</th>\n      <th>B</th>\n      <th>C</th>\n      <th>D</th>\n      <th>E</th>\n    </tr>\n  </thead>\n  <tbody>\n    <tr>\n      <th>0</th>\n      <td>57</td>\n      <td>35</td>\n      <td>66</td>\n      <td>42</td>\n      <td>97</td>\n    </tr>\n    <tr>\n      <th>1</th>\n      <td>94</td>\n      <td>87</td>\n      <td>10</td>\n      <td>72</td>\n      <td>78</td>\n    </tr>\n    <tr>\n      <th>2</th>\n      <td>71</td>\n      <td>87</td>\n      <td>90</td>\n      <td>91</td>\n      <td>81</td>\n    </tr>\n    <tr>\n      <th>3</th>\n      <td>87</td>\n      <td>81</td>\n      <td>16</td>\n      <td>41</td>\n      <td>68</td>\n    </tr>\n    <tr>\n      <th>4</th>\n      <td>70</td>\n      <td>90</td>\n      <td>38</td>\n      <td>68</td>\n      <td>28</td>\n    </tr>\n    <tr>\n      <th>...</th>\n      <td>...</td>\n      <td>...</td>\n      <td>...</td>\n      <td>...</td>\n      <td>...</td>\n    </tr>\n    <tr>\n      <th>9995</th>\n      <td>49</td>\n      <td>29</td>\n      <td>68</td>\n      <td>97</td>\n      <td>52</td>\n    </tr>\n    <tr>\n      <th>9996</th>\n      <td>49</td>\n      <td>42</td>\n      <td>95</td>\n      <td>92</td>\n      <td>80</td>\n    </tr>\n    <tr>\n      <th>9997</th>\n      <td>76</td>\n      <td>41</td>\n      <td>54</td>\n      <td>24</td>\n      <td>21</td>\n    </tr>\n    <tr>\n      <th>9998</th>\n      <td>58</td>\n      <td>92</td>\n      <td>64</td>\n      <td>59</td>\n      <td>11</td>\n    </tr>\n    <tr>\n      <th>9999</th>\n      <td>79</td>\n      <td>20</td>\n      <td>26</td>\n      <td>52</td>\n      <td>8</td>\n    </tr>\n  </tbody>\n</table>\n<p>10000 rows × 5 columns</p>\n</div>"
     },
     "execution_count": 3,
     "metadata": {},
     "output_type": "execute_result"
    }
   ],
   "source": [
    "import pandas as pd\n",
    "from numba import jit\n",
    "import numpy as np\n",
    "\n",
    "data = pd.DataFrame(np.random.randint(0, 100, size=(10000, 5)),\n",
    "                    columns=['A', 'B', 'C', 'D', 'E'])  # 生成0，1序列，并指定名称为'test'\n",
    "data"
   ]
  },
  {
   "cell_type": "code",
   "execution_count": 4,
   "outputs": [
    {
     "name": "stderr",
     "output_type": "stream",
     "text": [
      "/tmp/ipykernel_207253/2584699732.py:1: NumbaWarning: \n",
      "Compilation is falling back to object mode WITH looplifting enabled because Function \"go_fast\" failed type inference due to: non-precise type pyobject\n",
      "During: typing of argument at /tmp/ipykernel_207253/2584699732.py (3)\n",
      "\n",
      "File \"../../../../../tmp/ipykernel_207253/2584699732.py\", line 3:\n",
      "<source missing, REPL/exec in use?>\n",
      "\n",
      "  @jit   # Set \"nopython\" mode for best performance, equivalent to @njit\n",
      "/tmp/ipykernel_207253/2584699732.py:1: NumbaWarning: \n",
      "Compilation is falling back to object mode WITHOUT looplifting enabled because Function \"go_fast\" failed type inference due to: Cannot determine Numba type of <class 'numba.core.dispatcher.LiftedLoop'>\n",
      "\n",
      "File \"../../../../../tmp/ipykernel_207253/2584699732.py\", line 4:\n",
      "<source missing, REPL/exec in use?>\n",
      "\n",
      "  @jit   # Set \"nopython\" mode for best performance, equivalent to @njit\n",
      "/home/chandler/miniconda3/envs/pandasStudy/lib/python3.8/site-packages/numba/core/object_mode_passes.py:151: NumbaWarning: Function \"go_fast\" was compiled in object mode without forceobj=True, but has lifted loops.\n",
      "\n",
      "File \"../../../../../tmp/ipykernel_207253/2584699732.py\", line 3:\n",
      "<source missing, REPL/exec in use?>\n",
      "\n",
      "  warnings.warn(errors.NumbaWarning(warn_msg,\n",
      "/home/chandler/miniconda3/envs/pandasStudy/lib/python3.8/site-packages/numba/core/object_mode_passes.py:161: NumbaDeprecationWarning: \n",
      "Fall-back from the nopython compilation path to the object mode compilation path has been detected, this is deprecated behaviour.\n",
      "\n",
      "For more information visit https://numba.readthedocs.io/en/stable/reference/deprecation.html#deprecation-of-object-mode-fall-back-behaviour-when-using-jit\n",
      "\n",
      "File \"../../../../../tmp/ipykernel_207253/2584699732.py\", line 3:\n",
      "<source missing, REPL/exec in use?>\n",
      "\n",
      "  warnings.warn(errors.NumbaDeprecationWarning(msg,\n",
      "/tmp/ipykernel_207253/2584699732.py:1: NumbaWarning: \n",
      "Compilation is falling back to object mode WITHOUT looplifting enabled because Function \"go_fast\" failed type inference due to: non-precise type pyobject\n",
      "During: typing of argument at /tmp/ipykernel_207253/2584699732.py (4)\n",
      "\n",
      "File \"../../../../../tmp/ipykernel_207253/2584699732.py\", line 4:\n",
      "<source missing, REPL/exec in use?>\n",
      "\n",
      "  @jit   # Set \"nopython\" mode for best performance, equivalent to @njit\n",
      "/home/chandler/miniconda3/envs/pandasStudy/lib/python3.8/site-packages/numba/core/object_mode_passes.py:151: NumbaWarning: Function \"go_fast\" was compiled in object mode without forceobj=True.\n",
      "\n",
      "File \"../../../../../tmp/ipykernel_207253/2584699732.py\", line 4:\n",
      "<source missing, REPL/exec in use?>\n",
      "\n",
      "  warnings.warn(errors.NumbaWarning(warn_msg,\n",
      "/home/chandler/miniconda3/envs/pandasStudy/lib/python3.8/site-packages/numba/core/object_mode_passes.py:161: NumbaDeprecationWarning: \n",
      "Fall-back from the nopython compilation path to the object mode compilation path has been detected, this is deprecated behaviour.\n",
      "\n",
      "For more information visit https://numba.readthedocs.io/en/stable/reference/deprecation.html#deprecation-of-object-mode-fall-back-behaviour-when-using-jit\n",
      "\n",
      "File \"../../../../../tmp/ipykernel_207253/2584699732.py\", line 4:\n",
      "<source missing, REPL/exec in use?>\n",
      "\n",
      "  warnings.warn(errors.NumbaDeprecationWarning(msg,\n"
     ]
    },
    {
     "name": "stdout",
     "output_type": "stream",
     "text": [
      "1.05 ms ± 19.7 µs per loop (mean ± std. dev. of 10 runs, 1,000 loops each)\n"
     ]
    }
   ],
   "source": [
    "@jit   # Set \"nopython\" mode for best performance, equivalent to @njit\n",
    "def go_fast(a: pd.Series):  # Function is compiled to machine code when called the first time\n",
    "    trace = 0.0\n",
    "    for v in a:  # Numba likes loops\n",
    "        trace += v  # Numba likes NumPy functions\n",
    "    return trace  # Numba likes NumPy broadcasting\n",
    "%timeit -r 10 go_fast(data['A'])"
   ],
   "metadata": {
    "collapsed": false
   }
  },
  {
   "cell_type": "code",
   "execution_count": 5,
   "outputs": [
    {
     "name": "stdout",
     "output_type": "stream",
     "text": [
      "751 µs ± 44.2 µs per loop (mean ± std. dev. of 10 runs, 1,000 loops each)\n"
     ]
    }
   ],
   "source": [
    "def normal(a: pd.Series):  # Function is compiled to machine code when called the first time\n",
    "    trace = 0.0\n",
    "    for v in a:  # Numba likes loops\n",
    "        trace += v  # Numba likes NumPy functions\n",
    "    return trace\n",
    "%timeit -r 10 normal(data['A'])"
   ],
   "metadata": {
    "collapsed": false
   }
  },
  {
   "cell_type": "code",
   "execution_count": 12,
   "outputs": [
    {
     "name": "stdout",
     "output_type": "stream",
     "text": [
      "784 ns ± 16.8 ns per loop (mean ± std. dev. of 7 runs, 1,000,000 loops each)\n"
     ]
    }
   ],
   "source": [
    "import numpy as np\n",
    "x = np.arange(100).reshape(10, 10)\n",
    "\n",
    "@jit(nopython=True) # Set \"nopython\" mode for best performance, equivalent to @njit\n",
    "def go_fast_np(a): # Function is compiled to machine code when called the first time\n",
    "    trace = 0.0\n",
    "    for i in range(a.shape[0]):   # Numba likes loops\n",
    "        trace += np.tanh(a[i, i]) # Numba likes NumPy functions\n",
    "    return a + trace              # Numba likes NumPy broadcasting\n",
    "\n",
    "%timeit go_fast_np(x)"
   ],
   "metadata": {
    "collapsed": false
   }
  },
  {
   "cell_type": "code",
   "execution_count": 11,
   "outputs": [
    {
     "name": "stdout",
     "output_type": "stream",
     "text": [
      "10.8 µs ± 138 ns per loop (mean ± std. dev. of 7 runs, 100,000 loops each)\n"
     ]
    }
   ],
   "source": [
    "\n",
    "def normal_np(a): # Function is compiled to machine code when called the first time\n",
    "    trace = 0.0\n",
    "    for i in range(a.shape[0]):   # Numba likes loops\n",
    "        trace += np.tanh(a[i, i]) # Numba likes NumPy functions\n",
    "    return a + trace              # Numba likes NumPy broadcasting\n",
    "\n",
    "%timeit normal_np(x)"
   ],
   "metadata": {
    "collapsed": false
   }
  }
 ],
 "metadata": {
  "kernelspec": {
   "display_name": "Python 3",
   "language": "python",
   "name": "python3"
  },
  "language_info": {
   "codemirror_mode": {
    "name": "ipython",
    "version": 2
   },
   "file_extension": ".py",
   "mimetype": "text/x-python",
   "name": "python",
   "nbconvert_exporter": "python",
   "pygments_lexer": "ipython2",
   "version": "2.7.6"
  }
 },
 "nbformat": 4,
 "nbformat_minor": 0
}
